{
 "cells": [
  {
   "cell_type": "markdown",
   "metadata": {},
   "source": [
    "### 16th April 2021"
   ]
  },
  {
   "cell_type": "markdown",
   "metadata": {},
   "source": [
    "#### Logistic Regression\n",
    "Used to predict probability of a class and clasify, given the values of different independent predictor variables.\n",
    "\n",
    "Dependent variable variable (Y) is binary, i.e. having 2 possible values of 0 or 1.\n",
    "\n",
    "Unlike Linear Regression where Y is a continuous variable, Logistic Regression needs to have predicted Y to lie between 0 and 1. "
   ]
  },
  {
   "cell_type": "code",
   "execution_count": 1,
   "metadata": {},
   "outputs": [
    {
     "name": "stderr",
     "output_type": "stream",
     "text": [
      "\u001b[32m\u001b[1m   Updating\u001b[22m\u001b[39m registry at `C:\\Users\\HP-PC\\.julia\\registries\\General`\n",
      "\u001b[32m\u001b[1m  Resolving\u001b[22m\u001b[39m package versions...\n",
      "\u001b[32m\u001b[1mUpdating\u001b[22m\u001b[39m `C:\\Users\\HP-PC\\.julia\\environments\\v1.5\\Project.toml`\n",
      " \u001b[90m [2913bbd2] \u001b[39m\u001b[92m+ StatsBase v0.33.5\u001b[39m\n",
      "\u001b[32m\u001b[1mNo Changes\u001b[22m\u001b[39m to `C:\\Users\\HP-PC\\.julia\\environments\\v1.5\\Manifest.toml`\n",
      "\u001b[32m\u001b[1m  Resolving\u001b[22m\u001b[39m package versions...\n",
      "\u001b[32m\u001b[1m  Installed\u001b[22m\u001b[39m UnPack ───────────────── v1.0.2\n",
      "\u001b[32m\u001b[1m  Installed\u001b[22m\u001b[39m ClassImbalance ───────── v0.8.7\n",
      "\u001b[32m\u001b[1m  Installed\u001b[22m\u001b[39m Lathe ────────────────── v0.0.9\n",
      "\u001b[32m\u001b[1m  Installed\u001b[22m\u001b[39m KernelDensity ────────── v0.5.1\n",
      "\u001b[32m\u001b[1m  Installed\u001b[22m\u001b[39m ArrayInterface ───────── v2.14.17\n",
      "\u001b[32m\u001b[1m  Installed\u001b[22m\u001b[39m NLSolversBase ────────── v7.5.0\n",
      "\u001b[32m\u001b[1m  Installed\u001b[22m\u001b[39m ForwardDiff ──────────── v0.10.18\n",
      "\u001b[32m\u001b[1m  Installed\u001b[22m\u001b[39m SpecialFunctions ─────── v0.10.3\n",
      "\u001b[32m\u001b[1m  Installed\u001b[22m\u001b[39m DataFrames ───────────── v0.20.2\n",
      "\u001b[32m\u001b[1m  Installed\u001b[22m\u001b[39m CommonSubexpressions ─── v0.3.0\n",
      "\u001b[32m\u001b[1m  Installed\u001b[22m\u001b[39m Tables ───────────────── v1.4.2\n",
      "\u001b[32m\u001b[1m  Installed\u001b[22m\u001b[39m DataStructures ───────── v0.17.20\n",
      "\u001b[32m\u001b[1m  Installed\u001b[22m\u001b[39m StatsBase ────────────── v0.32.2\n",
      "\u001b[32m\u001b[1m  Installed\u001b[22m\u001b[39m FillArrays ───────────── v0.8.14\n",
      "\u001b[32m\u001b[1m  Installed\u001b[22m\u001b[39m DiffEqDiffTools ──────── v1.7.0\n",
      "\u001b[32m\u001b[1m  Installed\u001b[22m\u001b[39m LineSearches ─────────── v7.1.1\n",
      "\u001b[32m\u001b[1m  Installed\u001b[22m\u001b[39m CategoricalArrays ────── v0.7.7\n",
      "\u001b[32m\u001b[1m  Installed\u001b[22m\u001b[39m DiffResults ──────────── v1.0.3\n",
      "\u001b[32m\u001b[1m  Installed\u001b[22m\u001b[39m PDMats ───────────────── v0.9.12\n",
      "\u001b[32m\u001b[1m  Installed\u001b[22m\u001b[39m PooledArrays ─────────── v0.5.3\n",
      "\u001b[32m\u001b[1m  Installed\u001b[22m\u001b[39m Calculus ─────────────── v0.5.1\n",
      "\u001b[32m\u001b[1m  Installed\u001b[22m\u001b[39m PositiveFactorizations ─ v0.2.4\n",
      "\u001b[32m\u001b[1m  Installed\u001b[22m\u001b[39m DiffRules ────────────── v1.0.2\n",
      "\u001b[32m\u001b[1m  Installed\u001b[22m\u001b[39m Optim ────────────────── v0.22.0\n",
      "\u001b[32m\u001b[1m  Installed\u001b[22m\u001b[39m Distributions ────────── v0.22.6\n",
      "\u001b[32m\u001b[1m  Installed\u001b[22m\u001b[39m Parameters ───────────── v0.12.2\n",
      "\u001b[32m\u001b[1m  Installed\u001b[22m\u001b[39m StaticArrays ─────────── v0.12.5\n",
      "\u001b[32m\u001b[1m  Installed\u001b[22m\u001b[39m Interpolations ───────── v0.12.10\n",
      "\u001b[32m\u001b[1m  Installed\u001b[22m\u001b[39m ColorSchemes ─────────── v3.12.0\n",
      "\u001b[32m\u001b[1m  Installed\u001b[22m\u001b[39m GR ───────────────────── v0.57.4\n",
      "\u001b[32m\u001b[1mUpdating\u001b[22m\u001b[39m `C:\\Users\\HP-PC\\.julia\\environments\\v1.5\\Project.toml`\n",
      " \u001b[90m [04a18a73] \u001b[39m\u001b[92m+ ClassImbalance v0.8.7\u001b[39m\n",
      " \u001b[90m [a93c6f00] \u001b[39m\u001b[95m↓ DataFrames v0.22.7 ⇒ v0.20.2\u001b[39m\n",
      " \u001b[90m [38d8eb38] \u001b[39m\u001b[95m↓ Lathe v0.1.7 ⇒ v0.0.9\u001b[39m\n",
      " \u001b[90m [2913bbd2] \u001b[39m\u001b[95m↓ StatsBase v0.33.5 ⇒ v0.32.2\u001b[39m\n",
      "\u001b[32m\u001b[1mUpdating\u001b[22m\u001b[39m `C:\\Users\\HP-PC\\.julia\\environments\\v1.5\\Manifest.toml`\n",
      " \u001b[90m [4fba245c] \u001b[39m\u001b[92m+ ArrayInterface v2.14.17\u001b[39m\n",
      " \u001b[90m [ab4f0b2a] \u001b[39m\u001b[91m- BFloat16s v0.1.0\u001b[39m\n",
      " \u001b[90m [fa961155] \u001b[39m\u001b[91m- CEnum v0.4.1\u001b[39m\n",
      " \u001b[90m [052768ef] \u001b[39m\u001b[91m- CUDA v2.4.3\u001b[39m\n",
      " \u001b[90m [49dc2e85] \u001b[39m\u001b[92m+ Calculus v0.5.1\u001b[39m\n",
      " \u001b[90m [324d7699] \u001b[39m\u001b[95m↓ CategoricalArrays v0.9.5 ⇒ v0.7.7\u001b[39m\n",
      " \u001b[90m [d360d2e6] \u001b[39m\u001b[91m- ChainRulesCore v0.9.37\u001b[39m\n",
      " \u001b[90m [04a18a73] \u001b[39m\u001b[92m+ ClassImbalance v0.8.7\u001b[39m\n",
      " \u001b[90m [35d6a980] \u001b[39m\u001b[93m↑ ColorSchemes v3.11.0 ⇒ v3.12.0\u001b[39m\n",
      " \u001b[90m [bbf7d656] \u001b[39m\u001b[92m+ CommonSubexpressions v0.3.0\u001b[39m\n",
      " \u001b[90m [a8cc5b0e] \u001b[39m\u001b[91m- Crayons v4.0.4\u001b[39m\n",
      " \u001b[90m [a93c6f00] \u001b[39m\u001b[95m↓ DataFrames v0.22.7 ⇒ v0.20.2\u001b[39m\n",
      " \u001b[90m [864edb3b] \u001b[39m\u001b[95m↓ DataStructures v0.18.9 ⇒ v0.17.20\u001b[39m\n",
      " \u001b[90m [01453d9d] \u001b[39m\u001b[92m+ DiffEqDiffTools v1.7.0\u001b[39m\n",
      " \u001b[90m [163ba53b] \u001b[39m\u001b[92m+ DiffResults v1.0.3\u001b[39m\n",
      " \u001b[90m [b552c78f] \u001b[39m\u001b[92m+ DiffRules v1.0.2\u001b[39m\n",
      " \u001b[90m [31c24e10] \u001b[39m\u001b[95m↓ Distributions v0.24.15 ⇒ v0.22.6\u001b[39m\n",
      " \u001b[90m [ffbed154] \u001b[39m\u001b[91m- DocStringExtensions v0.8.4\u001b[39m\n",
      " \u001b[90m [e2ba6199] \u001b[39m\u001b[91m- ExprTools v0.1.3\u001b[39m\n",
      " \u001b[90m [1a297f60] \u001b[39m\u001b[95m↓ FillArrays v0.11.7 ⇒ v0.8.14\u001b[39m\n",
      " \u001b[90m [f6369f11] \u001b[39m\u001b[92m+ ForwardDiff v0.10.18\u001b[39m\n",
      " \u001b[90m [0c68f7d7] \u001b[39m\u001b[91m- GPUArrays v6.2.2\u001b[39m\n",
      " \u001b[90m [61eb1bfa] \u001b[39m\u001b[91m- GPUCompiler v0.8.3\u001b[39m\n",
      " \u001b[90m [28b8d3ca] \u001b[39m\u001b[93m↑ GR v0.57.3 ⇒ v0.57.4\u001b[39m\n",
      " \u001b[90m [a98d9a8b] \u001b[39m\u001b[95m↓ Interpolations v0.13.1 ⇒ v0.12.10\u001b[39m\n",
      " \u001b[90m [5ab0869b] \u001b[39m\u001b[95m↓ KernelDensity v0.6.2 ⇒ v0.5.1\u001b[39m\n",
      " \u001b[90m [929cbde3] \u001b[39m\u001b[91m- LLVM v3.6.0\u001b[39m\n",
      " \u001b[90m [38d8eb38] \u001b[39m\u001b[95m↓ Lathe v0.1.7 ⇒ v0.0.9\u001b[39m\n",
      " \u001b[90m [d3d80556] \u001b[39m\u001b[92m+ LineSearches v7.1.1\u001b[39m\n",
      " \u001b[90m [d41bc354] \u001b[39m\u001b[92m+ NLSolversBase v7.5.0\u001b[39m\n",
      " \u001b[90m [872c559c] \u001b[39m\u001b[91m- NNlib v0.7.18\u001b[39m\n",
      " \u001b[90m [429524aa] \u001b[39m\u001b[92m+ Optim v0.22.0\u001b[39m\n",
      " \u001b[90m [90014a1f] \u001b[39m\u001b[95m↓ PDMats v0.11.0 ⇒ v0.9.12\u001b[39m\n",
      " \u001b[90m [d96e819e] \u001b[39m\u001b[92m+ Parameters v0.12.2\u001b[39m\n",
      " \u001b[90m [2dfb63ee] \u001b[39m\u001b[95m↓ PooledArrays v1.2.1 ⇒ v0.5.3\u001b[39m\n",
      " \u001b[90m [85a6dd25] \u001b[39m\u001b[92m+ PositiveFactorizations v0.2.4\u001b[39m\n",
      " \u001b[90m [08abe8d2] \u001b[39m\u001b[91m- PrettyTables v0.11.1\u001b[39m\n",
      " \u001b[90m [276daf66] \u001b[39m\u001b[95m↓ SpecialFunctions v1.3.0 ⇒ v0.10.3\u001b[39m\n",
      " \u001b[90m [90137ffa] \u001b[39m\u001b[95m↓ StaticArrays v1.1.0 ⇒ v0.12.5\u001b[39m\n",
      " \u001b[90m [2913bbd2] \u001b[39m\u001b[95m↓ StatsBase v0.33.5 ⇒ v0.32.2\u001b[39m\n",
      " \u001b[90m [856f2bd8] \u001b[39m\u001b[91m- StructTypes v1.5.2\u001b[39m\n",
      " \u001b[90m [bd369af6] \u001b[39m\u001b[93m↑ Tables v1.4.1 ⇒ v1.4.2\u001b[39m\n",
      " \u001b[90m [a759f4b9] \u001b[39m\u001b[91m- TimerOutputs v0.5.8\u001b[39m\n",
      " \u001b[90m [3a884ed6] \u001b[39m\u001b[92m+ UnPack v1.0.2\u001b[39m\n",
      "\u001b[32m\u001b[1m   Building\u001b[22m\u001b[39m GR → `C:\\Users\\HP-PC\\.julia\\packages\\GR\\Hsil0\\deps\\build.log`\n",
      "\u001b[32m\u001b[1m  Resolving\u001b[22m\u001b[39m package versions...\n",
      "\u001b[32m\u001b[1m  Installed\u001b[22m\u001b[39m ROCAnalysis ─ v0.3.2\n",
      "\u001b[32m\u001b[1mUpdating\u001b[22m\u001b[39m `C:\\Users\\HP-PC\\.julia\\environments\\v1.5\\Project.toml`\n",
      " \u001b[90m [f535d66d] \u001b[39m\u001b[92m+ ROCAnalysis v0.3.2\u001b[39m\n",
      "\u001b[32m\u001b[1mUpdating\u001b[22m\u001b[39m `C:\\Users\\HP-PC\\.julia\\environments\\v1.5\\Manifest.toml`\n",
      " \u001b[90m [f535d66d] \u001b[39m\u001b[92m+ ROCAnalysis v0.3.2\u001b[39m\n",
      "┌ Info: Precompiling DataFrames [a93c6f00-e57d-5684-b7b6-d8193f3e46c0]\n",
      "└ @ Base loading.jl:1278\n",
      "┌ Info: Precompiling CSV [336ed68f-0bac-5ca0-87d4-7b16caf5d00b]\n",
      "└ @ Base loading.jl:1278\n",
      "┌ Info: Precompiling Plots [91a5bcdd-55d7-5caf-9e0b-520d859cae80]\n",
      "└ @ Base loading.jl:1278\n",
      "┌ Info: Precompiling GLM [38e38edf-8417-5370-95a0-9cbb8c7f171a]\n",
      "└ @ Base loading.jl:1278\n",
      "┌ Info: Precompiling Lathe [38d8eb38-e7b1-11e9-0012-376b6c802672]\n",
      "└ @ Base loading.jl:1278\n",
      "┌ Info: Precompiling MLBase [f0e99cf1-93fa-52ec-9ecc-5026115318e0]\n",
      "└ @ Base loading.jl:1278\n",
      "┌ Info: Precompiling ClassImbalance [04a18a73-7590-580c-b363-eeca0919eb2a]\n",
      "└ @ Base loading.jl:1278\n",
      "┌ Info: Precompiling ROCAnalysis [f535d66d-59bb-5153-8d2b-ef0a426c6aff]\n",
      "└ @ Base loading.jl:1278\n"
     ]
    }
   ],
   "source": [
    "using Pkg\n",
    "Pkg.add(\"StatsBase\")\n",
    "Pkg.add(\"ClassImbalance\")\n",
    "Pkg.add(\"ROCAnalysis\")\n",
    "using DataFrames\n",
    "using CSV\n",
    "using Plots\n",
    "using GLM\n",
    "using StatsBase\n",
    "using Lathe\n",
    "using MLBase\n",
    "using ClassImbalance\n",
    "using ROCAnalysis"
   ]
  },
  {
   "cell_type": "code",
   "execution_count": 2,
   "metadata": {},
   "outputs": [
    {
     "data": {
      "text/plain": [
       "1000"
      ]
     },
     "execution_count": 2,
     "metadata": {},
     "output_type": "execute_result"
    }
   ],
   "source": [
    "ENV[\"COLUMNS\"] = 1000   # Enable printing of 1000 columns"
   ]
  },
  {
   "cell_type": "code",
   "execution_count": 3,
   "metadata": {},
   "outputs": [
    {
     "data": {
      "text/html": [
       "<table class=\"data-frame\"><thead><tr><th></th><th>RowNumber</th><th>CustomerId</th><th>Surname</th><th>CreditScore</th><th>Geography</th><th>Gender</th><th>Age</th><th>Tenure</th><th>Balance</th><th>NumOfProducts</th><th>HasCrCard</th><th>IsActiveMember</th><th>EstimatedSalary</th><th>Exited</th></tr><tr><th></th><th>Int64</th><th>Int64</th><th>String</th><th>Int64</th><th>String</th><th>String</th><th>Int64</th><th>Int64</th><th>Float64</th><th>Int64</th><th>Int64</th><th>Int64</th><th>Float64</th><th>Int64</th></tr></thead><tbody><p>5 rows × 14 columns</p><tr><th>1</th><td>1</td><td>15634602</td><td>Hargrave</td><td>619</td><td>France</td><td>Female</td><td>42</td><td>2</td><td>0.0</td><td>1</td><td>1</td><td>1</td><td>1.01349e5</td><td>1</td></tr><tr><th>2</th><td>2</td><td>15647311</td><td>Hill</td><td>608</td><td>Spain</td><td>Female</td><td>41</td><td>1</td><td>83807.9</td><td>1</td><td>0</td><td>1</td><td>1.12543e5</td><td>0</td></tr><tr><th>3</th><td>3</td><td>15619304</td><td>Onio</td><td>502</td><td>France</td><td>Female</td><td>42</td><td>8</td><td>1.59661e5</td><td>3</td><td>1</td><td>0</td><td>1.13932e5</td><td>1</td></tr><tr><th>4</th><td>4</td><td>15701354</td><td>Boni</td><td>699</td><td>France</td><td>Female</td><td>39</td><td>1</td><td>0.0</td><td>2</td><td>0</td><td>0</td><td>93826.6</td><td>0</td></tr><tr><th>5</th><td>5</td><td>15737888</td><td>Mitchell</td><td>850</td><td>Spain</td><td>Female</td><td>43</td><td>2</td><td>1.25511e5</td><td>1</td><td>1</td><td>1</td><td>79084.1</td><td>0</td></tr></tbody></table>"
      ],
      "text/latex": [
       "\\begin{tabular}{r|cccccccccccccc}\n",
       "\t& RowNumber & CustomerId & Surname & CreditScore & Geography & Gender & Age & Tenure & Balance & NumOfProducts & HasCrCard & IsActiveMember & EstimatedSalary & Exited\\\\\n",
       "\t\\hline\n",
       "\t& Int64 & Int64 & String & Int64 & String & String & Int64 & Int64 & Float64 & Int64 & Int64 & Int64 & Float64 & Int64\\\\\n",
       "\t\\hline\n",
       "\t1 & 1 & 15634602 & Hargrave & 619 & France & Female & 42 & 2 & 0.0 & 1 & 1 & 1 & 1.01349e5 & 1 \\\\\n",
       "\t2 & 2 & 15647311 & Hill & 608 & Spain & Female & 41 & 1 & 83807.9 & 1 & 0 & 1 & 1.12543e5 & 0 \\\\\n",
       "\t3 & 3 & 15619304 & Onio & 502 & France & Female & 42 & 8 & 1.59661e5 & 3 & 1 & 0 & 1.13932e5 & 1 \\\\\n",
       "\t4 & 4 & 15701354 & Boni & 699 & France & Female & 39 & 1 & 0.0 & 2 & 0 & 0 & 93826.6 & 0 \\\\\n",
       "\t5 & 5 & 15737888 & Mitchell & 850 & Spain & Female & 43 & 2 & 1.25511e5 & 1 & 1 & 1 & 79084.1 & 0 \\\\\n",
       "\\end{tabular}\n"
      ],
      "text/plain": [
       "5×14 DataFrame\n",
       "│ Row │ RowNumber │ CustomerId │ Surname  │ CreditScore │ Geography │ Gender │ Age   │ Tenure │ Balance   │ NumOfProducts │ HasCrCard │ IsActiveMember │ EstimatedSalary │ Exited │\n",
       "│     │ \u001b[90mInt64\u001b[39m     │ \u001b[90mInt64\u001b[39m      │ \u001b[90mString\u001b[39m   │ \u001b[90mInt64\u001b[39m       │ \u001b[90mString\u001b[39m    │ \u001b[90mString\u001b[39m │ \u001b[90mInt64\u001b[39m │ \u001b[90mInt64\u001b[39m  │ \u001b[90mFloat64\u001b[39m   │ \u001b[90mInt64\u001b[39m         │ \u001b[90mInt64\u001b[39m     │ \u001b[90mInt64\u001b[39m          │ \u001b[90mFloat64\u001b[39m         │ \u001b[90mInt64\u001b[39m  │\n",
       "├─────┼───────────┼────────────┼──────────┼─────────────┼───────────┼────────┼───────┼────────┼───────────┼───────────────┼───────────┼────────────────┼─────────────────┼────────┤\n",
       "│ 1   │ 1         │ 15634602   │ Hargrave │ 619         │ France    │ Female │ 42    │ 2      │ 0.0       │ 1             │ 1         │ 1              │ 1.01349e5       │ 1      │\n",
       "│ 2   │ 2         │ 15647311   │ Hill     │ 608         │ Spain     │ Female │ 41    │ 1      │ 83807.9   │ 1             │ 0         │ 1              │ 1.12543e5       │ 0      │\n",
       "│ 3   │ 3         │ 15619304   │ Onio     │ 502         │ France    │ Female │ 42    │ 8      │ 1.59661e5 │ 3             │ 1         │ 0              │ 1.13932e5       │ 1      │\n",
       "│ 4   │ 4         │ 15701354   │ Boni     │ 699         │ France    │ Female │ 39    │ 1      │ 0.0       │ 2             │ 0         │ 0              │ 93826.6         │ 0      │\n",
       "│ 5   │ 5         │ 15737888   │ Mitchell │ 850         │ Spain     │ Female │ 43    │ 2      │ 1.25511e5 │ 1             │ 1         │ 1              │ 79084.1         │ 0      │"
      ]
     },
     "execution_count": 3,
     "metadata": {},
     "output_type": "execute_result"
    }
   ],
   "source": [
    "# Read the file using CSV.File and convert it to DataFrame\n",
    "df = DataFrame(CSV.File(\"Churn_Modelling.csv\"))\n",
    "first(df, 5)"
   ]
  },
  {
   "cell_type": "code",
   "execution_count": 4,
   "metadata": {},
   "outputs": [
    {
     "name": "stdout",
     "output_type": "stream",
     "text": [
      "(10000, 14)\n"
     ]
    },
    {
     "data": {
      "text/html": [
       "<table class=\"data-frame\"><thead><tr><th></th><th>variable</th><th>mean</th><th>min</th><th>median</th><th>max</th><th>nunique</th><th>nmissing</th><th>eltype</th></tr><tr><th></th><th>Symbol</th><th>Union…</th><th>Any</th><th>Union…</th><th>Any</th><th>Union…</th><th>Nothing</th><th>DataType</th></tr></thead><tbody><p>14 rows × 8 columns</p><tr><th>1</th><td>RowNumber</td><td>5000.5</td><td>1</td><td>5000.5</td><td>10000</td><td></td><td></td><td>Int64</td></tr><tr><th>2</th><td>CustomerId</td><td>1.56909e7</td><td>15565701</td><td>1.56907e7</td><td>15815690</td><td></td><td></td><td>Int64</td></tr><tr><th>3</th><td>Surname</td><td></td><td>Abazu</td><td></td><td>Zuyeva</td><td>2932</td><td></td><td>String</td></tr><tr><th>4</th><td>CreditScore</td><td>650.529</td><td>350</td><td>652.0</td><td>850</td><td></td><td></td><td>Int64</td></tr><tr><th>5</th><td>Geography</td><td></td><td>France</td><td></td><td>Spain</td><td>3</td><td></td><td>String</td></tr><tr><th>6</th><td>Gender</td><td></td><td>Female</td><td></td><td>Male</td><td>2</td><td></td><td>String</td></tr><tr><th>7</th><td>Age</td><td>38.9218</td><td>18</td><td>37.0</td><td>92</td><td></td><td></td><td>Int64</td></tr><tr><th>8</th><td>Tenure</td><td>5.0128</td><td>0</td><td>5.0</td><td>10</td><td></td><td></td><td>Int64</td></tr><tr><th>9</th><td>Balance</td><td>76485.9</td><td>0.0</td><td>97198.5</td><td>2.50898e5</td><td></td><td></td><td>Float64</td></tr><tr><th>10</th><td>NumOfProducts</td><td>1.5302</td><td>1</td><td>1.0</td><td>4</td><td></td><td></td><td>Int64</td></tr><tr><th>11</th><td>HasCrCard</td><td>0.7055</td><td>0</td><td>1.0</td><td>1</td><td></td><td></td><td>Int64</td></tr><tr><th>12</th><td>IsActiveMember</td><td>0.5151</td><td>0</td><td>1.0</td><td>1</td><td></td><td></td><td>Int64</td></tr><tr><th>13</th><td>EstimatedSalary</td><td>1.0009e5</td><td>11.58</td><td>1.00194e5</td><td>1.99992e5</td><td></td><td></td><td>Float64</td></tr><tr><th>14</th><td>Exited</td><td>0.2037</td><td>0</td><td>0.0</td><td>1</td><td></td><td></td><td>Int64</td></tr></tbody></table>"
      ],
      "text/latex": [
       "\\begin{tabular}{r|cccccccc}\n",
       "\t& variable & mean & min & median & max & nunique & nmissing & eltype\\\\\n",
       "\t\\hline\n",
       "\t& Symbol & Union… & Any & Union… & Any & Union… & Nothing & DataType\\\\\n",
       "\t\\hline\n",
       "\t1 & RowNumber & 5000.5 & 1 & 5000.5 & 10000 &  &  & Int64 \\\\\n",
       "\t2 & CustomerId & 1.56909e7 & 15565701 & 1.56907e7 & 15815690 &  &  & Int64 \\\\\n",
       "\t3 & Surname &  & Abazu &  & Zuyeva & 2932 &  & String \\\\\n",
       "\t4 & CreditScore & 650.529 & 350 & 652.0 & 850 &  &  & Int64 \\\\\n",
       "\t5 & Geography &  & France &  & Spain & 3 &  & String \\\\\n",
       "\t6 & Gender &  & Female &  & Male & 2 &  & String \\\\\n",
       "\t7 & Age & 38.9218 & 18 & 37.0 & 92 &  &  & Int64 \\\\\n",
       "\t8 & Tenure & 5.0128 & 0 & 5.0 & 10 &  &  & Int64 \\\\\n",
       "\t9 & Balance & 76485.9 & 0.0 & 97198.5 & 2.50898e5 &  &  & Float64 \\\\\n",
       "\t10 & NumOfProducts & 1.5302 & 1 & 1.0 & 4 &  &  & Int64 \\\\\n",
       "\t11 & HasCrCard & 0.7055 & 0 & 1.0 & 1 &  &  & Int64 \\\\\n",
       "\t12 & IsActiveMember & 0.5151 & 0 & 1.0 & 1 &  &  & Int64 \\\\\n",
       "\t13 & EstimatedSalary & 1.0009e5 & 11.58 & 1.00194e5 & 1.99992e5 &  &  & Float64 \\\\\n",
       "\t14 & Exited & 0.2037 & 0 & 0.0 & 1 &  &  & Int64 \\\\\n",
       "\\end{tabular}\n"
      ],
      "text/plain": [
       "14×8 DataFrame\n",
       "│ Row │ variable        │ mean      │ min      │ median    │ max       │ nunique │ nmissing │ eltype   │\n",
       "│     │ \u001b[90mSymbol\u001b[39m          │ \u001b[90mUnion…\u001b[39m    │ \u001b[90mAny\u001b[39m      │ \u001b[90mUnion…\u001b[39m    │ \u001b[90mAny\u001b[39m       │ \u001b[90mUnion…\u001b[39m  │ \u001b[90mNothing\u001b[39m  │ \u001b[90mDataType\u001b[39m │\n",
       "├─────┼─────────────────┼───────────┼──────────┼───────────┼───────────┼─────────┼──────────┼──────────┤\n",
       "│ 1   │ RowNumber       │ 5000.5    │ 1        │ 5000.5    │ 10000     │         │          │ Int64    │\n",
       "│ 2   │ CustomerId      │ 1.56909e7 │ 15565701 │ 1.56907e7 │ 15815690  │         │          │ Int64    │\n",
       "│ 3   │ Surname         │           │ Abazu    │           │ Zuyeva    │ 2932    │          │ String   │\n",
       "│ 4   │ CreditScore     │ 650.529   │ 350      │ 652.0     │ 850       │         │          │ Int64    │\n",
       "│ 5   │ Geography       │           │ France   │           │ Spain     │ 3       │          │ String   │\n",
       "│ 6   │ Gender          │           │ Female   │           │ Male      │ 2       │          │ String   │\n",
       "│ 7   │ Age             │ 38.9218   │ 18       │ 37.0      │ 92        │         │          │ Int64    │\n",
       "│ 8   │ Tenure          │ 5.0128    │ 0        │ 5.0       │ 10        │         │          │ Int64    │\n",
       "│ 9   │ Balance         │ 76485.9   │ 0.0      │ 97198.5   │ 2.50898e5 │         │          │ Float64  │\n",
       "│ 10  │ NumOfProducts   │ 1.5302    │ 1        │ 1.0       │ 4         │         │          │ Int64    │\n",
       "│ 11  │ HasCrCard       │ 0.7055    │ 0        │ 1.0       │ 1         │         │          │ Int64    │\n",
       "│ 12  │ IsActiveMember  │ 0.5151    │ 0        │ 1.0       │ 1         │         │          │ Int64    │\n",
       "│ 13  │ EstimatedSalary │ 1.0009e5  │ 11.58    │ 1.00194e5 │ 1.99992e5 │         │          │ Float64  │\n",
       "│ 14  │ Exited          │ 0.2037    │ 0        │ 0.0       │ 1         │         │          │ Int64    │"
      ]
     },
     "execution_count": 4,
     "metadata": {},
     "output_type": "execute_result"
    }
   ],
   "source": [
    "println(size(df))\n",
    "describe(df)"
   ]
  },
  {
   "cell_type": "code",
   "execution_count": 5,
   "metadata": {},
   "outputs": [
    {
     "data": {
      "text/plain": [
       "14-element Array{Symbol,1}:\n",
       " :RowNumber\n",
       " :CustomerId\n",
       " :Surname\n",
       " :CreditScore\n",
       " :Geography\n",
       " :Gender\n",
       " :Age\n",
       " :Tenure\n",
       " :Balance\n",
       " :NumOfProducts\n",
       " :HasCrCard\n",
       " :IsActiveMember\n",
       " :EstimatedSalary\n",
       " :Exited"
      ]
     },
     "execution_count": 5,
     "metadata": {},
     "output_type": "execute_result"
    }
   ],
   "source": [
    "names(df)"
   ]
  },
  {
   "cell_type": "code",
   "execution_count": 6,
   "metadata": {},
   "outputs": [
    {
     "data": {
      "text/plain": [
       "Dict{Int64,Int64} with 2 entries:\n",
       "  0 => 7963\n",
       "  1 => 2037"
      ]
     },
     "execution_count": 6,
     "metadata": {},
     "output_type": "execute_result"
    }
   ],
   "source": [
    "countmap(df.Exited)   # Count the classes (Counts no. of unique entries in dataframes's columns)"
   ]
  },
  {
   "cell_type": "markdown",
   "metadata": {},
   "source": [
    "#### One Hot Encoding\n",
    "Converting categorical variables into a form that can be fed into ML algorithms"
   ]
  },
  {
   "cell_type": "code",
   "execution_count": 7,
   "metadata": {},
   "outputs": [
    {
     "data": {
      "text/html": [
       "<table class=\"data-frame\"><thead><tr><th></th><th>CreditScore</th><th>Age</th><th>Tenure</th><th>Balance</th><th>NumOfProducts</th><th>HasCrCard</th><th>IsActiveMember</th><th>EstimatedSalary</th><th>Exited</th><th>France</th><th>Spain</th><th>Germany</th><th>Female</th></tr><tr><th></th><th>Int64</th><th>Int64</th><th>Int64</th><th>Float64</th><th>Int64</th><th>Int64</th><th>Int64</th><th>Float64</th><th>Int64</th><th>Bool</th><th>Bool</th><th>Bool</th><th>Bool</th></tr></thead><tbody><p>5 rows × 13 columns</p><tr><th>1</th><td>619</td><td>42</td><td>2</td><td>0.0</td><td>1</td><td>1</td><td>1</td><td>1.01349e5</td><td>1</td><td>1</td><td>0</td><td>0</td><td>1</td></tr><tr><th>2</th><td>608</td><td>41</td><td>1</td><td>83807.9</td><td>1</td><td>0</td><td>1</td><td>1.12543e5</td><td>0</td><td>0</td><td>1</td><td>0</td><td>1</td></tr><tr><th>3</th><td>502</td><td>42</td><td>8</td><td>1.59661e5</td><td>3</td><td>1</td><td>0</td><td>1.13932e5</td><td>1</td><td>1</td><td>0</td><td>0</td><td>1</td></tr><tr><th>4</th><td>699</td><td>39</td><td>1</td><td>0.0</td><td>2</td><td>0</td><td>0</td><td>93826.6</td><td>0</td><td>1</td><td>0</td><td>0</td><td>1</td></tr><tr><th>5</th><td>850</td><td>43</td><td>2</td><td>1.25511e5</td><td>1</td><td>1</td><td>1</td><td>79084.1</td><td>0</td><td>0</td><td>1</td><td>0</td><td>1</td></tr></tbody></table>"
      ],
      "text/latex": [
       "\\begin{tabular}{r|ccccccccccccc}\n",
       "\t& CreditScore & Age & Tenure & Balance & NumOfProducts & HasCrCard & IsActiveMember & EstimatedSalary & Exited & France & Spain & Germany & Female\\\\\n",
       "\t\\hline\n",
       "\t& Int64 & Int64 & Int64 & Float64 & Int64 & Int64 & Int64 & Float64 & Int64 & Bool & Bool & Bool & Bool\\\\\n",
       "\t\\hline\n",
       "\t1 & 619 & 42 & 2 & 0.0 & 1 & 1 & 1 & 1.01349e5 & 1 & 1 & 0 & 0 & 1 \\\\\n",
       "\t2 & 608 & 41 & 1 & 83807.9 & 1 & 0 & 1 & 1.12543e5 & 0 & 0 & 1 & 0 & 1 \\\\\n",
       "\t3 & 502 & 42 & 8 & 1.59661e5 & 3 & 1 & 0 & 1.13932e5 & 1 & 1 & 0 & 0 & 1 \\\\\n",
       "\t4 & 699 & 39 & 1 & 0.0 & 2 & 0 & 0 & 93826.6 & 0 & 1 & 0 & 0 & 1 \\\\\n",
       "\t5 & 850 & 43 & 2 & 1.25511e5 & 1 & 1 & 1 & 79084.1 & 0 & 0 & 1 & 0 & 1 \\\\\n",
       "\\end{tabular}\n"
      ],
      "text/plain": [
       "5×13 DataFrame\n",
       "│ Row │ CreditScore │ Age   │ Tenure │ Balance   │ NumOfProducts │ HasCrCard │ IsActiveMember │ EstimatedSalary │ Exited │ France │ Spain │ Germany │ Female │\n",
       "│     │ \u001b[90mInt64\u001b[39m       │ \u001b[90mInt64\u001b[39m │ \u001b[90mInt64\u001b[39m  │ \u001b[90mFloat64\u001b[39m   │ \u001b[90mInt64\u001b[39m         │ \u001b[90mInt64\u001b[39m     │ \u001b[90mInt64\u001b[39m          │ \u001b[90mFloat64\u001b[39m         │ \u001b[90mInt64\u001b[39m  │ \u001b[90mBool\u001b[39m   │ \u001b[90mBool\u001b[39m  │ \u001b[90mBool\u001b[39m    │ \u001b[90mBool\u001b[39m   │\n",
       "├─────┼─────────────┼───────┼────────┼───────────┼───────────────┼───────────┼────────────────┼─────────────────┼────────┼────────┼───────┼─────────┼────────┤\n",
       "│ 1   │ 619         │ 42    │ 2      │ 0.0       │ 1             │ 1         │ 1              │ 1.01349e5       │ 1      │ 1      │ 0     │ 0       │ 1      │\n",
       "│ 2   │ 608         │ 41    │ 1      │ 83807.9   │ 1             │ 0         │ 1              │ 1.12543e5       │ 0      │ 0      │ 1     │ 0       │ 1      │\n",
       "│ 3   │ 502         │ 42    │ 8      │ 1.59661e5 │ 3             │ 1         │ 0              │ 1.13932e5       │ 1      │ 1      │ 0     │ 0       │ 1      │\n",
       "│ 4   │ 699         │ 39    │ 1      │ 0.0       │ 2             │ 0         │ 0              │ 93826.6         │ 0      │ 1      │ 0     │ 0       │ 1      │\n",
       "│ 5   │ 850         │ 43    │ 2      │ 1.25511e5 │ 1             │ 1         │ 1              │ 79084.1         │ 0      │ 0      │ 1     │ 0       │ 1      │"
      ]
     },
     "execution_count": 7,
     "metadata": {},
     "output_type": "execute_result"
    }
   ],
   "source": [
    "Lathe.preprocess.OneHotEncode(df, :Geography)\n",
    "Lathe.preprocess.OneHotEncode(df, :Gender)\n",
    "select!(df, Not([:RowNumber, :CustomerId, :Surname, :Geography, :Gender, :Male]))\n",
    "first(df, 5)"
   ]
  },
  {
   "cell_type": "code",
   "execution_count": 8,
   "metadata": {},
   "outputs": [
    {
     "data": {
      "text/plain": [
       "(7489×13 DataFrame\n",
       "│ Row  │ CreditScore │ Age   │ Tenure │ Balance   │ NumOfProducts │ HasCrCard │ IsActiveMember │ EstimatedSalary │ Exited │ France │ Spain │ Germany │ Female │\n",
       "│      │ \u001b[90mInt64\u001b[39m       │ \u001b[90mInt64\u001b[39m │ \u001b[90mInt64\u001b[39m  │ \u001b[90mFloat64\u001b[39m   │ \u001b[90mInt64\u001b[39m         │ \u001b[90mInt64\u001b[39m     │ \u001b[90mInt64\u001b[39m          │ \u001b[90mFloat64\u001b[39m         │ \u001b[90mInt64\u001b[39m  │ \u001b[90mBool\u001b[39m   │ \u001b[90mBool\u001b[39m  │ \u001b[90mBool\u001b[39m    │ \u001b[90mBool\u001b[39m   │\n",
       "├──────┼─────────────┼───────┼────────┼───────────┼───────────────┼───────────┼────────────────┼─────────────────┼────────┼────────┼───────┼─────────┼────────┤\n",
       "│ 1    │ 699         │ 39    │ 1      │ 0.0       │ 2             │ 0         │ 0              │ 93826.6         │ 0      │ 1      │ 0     │ 0       │ 1      │\n",
       "│ 2    │ 850         │ 43    │ 2      │ 1.25511e5 │ 1             │ 1         │ 1              │ 79084.1         │ 0      │ 0      │ 1     │ 0       │ 1      │\n",
       "│ 3    │ 822         │ 50    │ 7      │ 0.0       │ 2             │ 1         │ 1              │ 10062.8         │ 0      │ 1      │ 0     │ 0       │ 0      │\n",
       "│ 4    │ 376         │ 29    │ 4      │ 1.15047e5 │ 4             │ 1         │ 0              │ 1.19347e5       │ 1      │ 0      │ 0     │ 1       │ 1      │\n",
       "│ 5    │ 501         │ 44    │ 4      │ 1.42051e5 │ 2             │ 0         │ 1              │ 74940.5         │ 0      │ 1      │ 0     │ 0       │ 0      │\n",
       "│ 6    │ 684         │ 27    │ 2      │ 1.34604e5 │ 1             │ 1         │ 1              │ 71725.7         │ 0      │ 1      │ 0     │ 0       │ 0      │\n",
       "│ 7    │ 528         │ 31    │ 6      │ 1.02017e5 │ 2             │ 0         │ 0              │ 80181.1         │ 0      │ 1      │ 0     │ 0       │ 0      │\n",
       "│ 8    │ 476         │ 34    │ 10     │ 0.0       │ 2             │ 1         │ 0              │ 26261.0         │ 0      │ 1      │ 0     │ 0       │ 1      │\n",
       "│ 9    │ 635         │ 35    │ 7      │ 0.0       │ 2             │ 1         │ 1              │ 65951.6         │ 0      │ 0      │ 1     │ 0       │ 1      │\n",
       "│ 10   │ 616         │ 45    │ 3      │ 1.43129e5 │ 2             │ 0         │ 1              │ 64327.3         │ 0      │ 0      │ 0     │ 1       │ 0      │\n",
       "⋮\n",
       "│ 7479 │ 655         │ 46    │ 7      │ 1.37145e5 │ 1             │ 1         │ 0              │ 1.15146e5       │ 1      │ 0      │ 0     │ 1       │ 1      │\n",
       "│ 7480 │ 613         │ 40    │ 4      │ 0.0       │ 1             │ 0         │ 0              │ 1.51325e5       │ 0      │ 1      │ 0     │ 0       │ 0      │\n",
       "│ 7481 │ 659         │ 36    │ 6      │ 1.23841e5 │ 2             │ 1         │ 0              │ 96833.0         │ 0      │ 1      │ 0     │ 0       │ 0      │\n",
       "│ 7482 │ 673         │ 47    │ 1      │ 1.8358e5  │ 2             │ 0         │ 1              │ 34047.5         │ 0      │ 0      │ 0     │ 1       │ 0      │\n",
       "│ 7483 │ 606         │ 30    │ 8      │ 1.80308e5 │ 2             │ 1         │ 1              │ 1914.41         │ 0      │ 0      │ 1     │ 0       │ 0      │\n",
       "│ 7484 │ 841         │ 28    │ 4      │ 0.0       │ 2             │ 1         │ 1              │ 1.79437e5       │ 0      │ 0      │ 1     │ 0       │ 0      │\n",
       "│ 7485 │ 644         │ 28    │ 7      │ 1.5506e5  │ 1             │ 1         │ 0              │ 29179.5         │ 0      │ 1      │ 0     │ 0       │ 0      │\n",
       "│ 7486 │ 800         │ 29    │ 2      │ 0.0       │ 2             │ 0         │ 0              │ 1.67774e5       │ 0      │ 1      │ 0     │ 0       │ 1      │\n",
       "│ 7487 │ 771         │ 39    │ 5      │ 0.0       │ 2             │ 1         │ 0              │ 96270.6         │ 0      │ 1      │ 0     │ 0       │ 0      │\n",
       "│ 7488 │ 516         │ 35    │ 10     │ 57369.6   │ 1             │ 1         │ 1              │ 1.017e5         │ 0      │ 1      │ 0     │ 0       │ 0      │\n",
       "│ 7489 │ 792         │ 28    │ 4      │ 1.30143e5 │ 1             │ 1         │ 0              │ 38190.8         │ 0      │ 1      │ 0     │ 0       │ 1      │, 2511×13 DataFrame\n",
       "│ Row  │ CreditScore │ Age   │ Tenure │ Balance   │ NumOfProducts │ HasCrCard │ IsActiveMember │ EstimatedSalary │ Exited │ France │ Spain │ Germany │ Female │\n",
       "│      │ \u001b[90mInt64\u001b[39m       │ \u001b[90mInt64\u001b[39m │ \u001b[90mInt64\u001b[39m  │ \u001b[90mFloat64\u001b[39m   │ \u001b[90mInt64\u001b[39m         │ \u001b[90mInt64\u001b[39m     │ \u001b[90mInt64\u001b[39m          │ \u001b[90mFloat64\u001b[39m         │ \u001b[90mInt64\u001b[39m  │ \u001b[90mBool\u001b[39m   │ \u001b[90mBool\u001b[39m  │ \u001b[90mBool\u001b[39m    │ \u001b[90mBool\u001b[39m   │\n",
       "├──────┼─────────────┼───────┼────────┼───────────┼───────────────┼───────────┼────────────────┼─────────────────┼────────┼────────┼───────┼─────────┼────────┤\n",
       "│ 1    │ 619         │ 42    │ 2      │ 0.0       │ 1             │ 1         │ 1              │ 1.01349e5       │ 1      │ 1      │ 0     │ 0       │ 1      │\n",
       "│ 2    │ 608         │ 41    │ 1      │ 83807.9   │ 1             │ 0         │ 1              │ 1.12543e5       │ 0      │ 0      │ 1     │ 0       │ 1      │\n",
       "│ 3    │ 502         │ 42    │ 8      │ 1.59661e5 │ 3             │ 1         │ 0              │ 1.13932e5       │ 1      │ 1      │ 0     │ 0       │ 1      │\n",
       "│ 4    │ 645         │ 44    │ 8      │ 1.13756e5 │ 2             │ 1         │ 0              │ 1.49757e5       │ 1      │ 0      │ 1     │ 0       │ 0      │\n",
       "│ 5    │ 497         │ 24    │ 3      │ 0.0       │ 2             │ 1         │ 0              │ 76390.0         │ 0      │ 0      │ 1     │ 0       │ 0      │\n",
       "│ 6    │ 549         │ 25    │ 5      │ 0.0       │ 2             │ 0         │ 0              │ 1.90858e5       │ 0      │ 1      │ 0     │ 0       │ 1      │\n",
       "│ 7    │ 653         │ 58    │ 1      │ 1.32603e5 │ 1             │ 1         │ 0              │ 5097.67         │ 1      │ 0      │ 0     │ 1       │ 0      │\n",
       "│ 8    │ 756         │ 36    │ 2      │ 1.36816e5 │ 1             │ 1         │ 1              │ 170042.0        │ 0      │ 0      │ 0     │ 1       │ 0      │\n",
       "│ 9    │ 490         │ 31    │ 3      │ 1.4526e5  │ 1             │ 0         │ 1              │ 1.14067e5       │ 0      │ 0      │ 1     │ 0       │ 0      │\n",
       "│ 10   │ 582         │ 41    │ 6      │ 70349.5   │ 2             │ 0         │ 1              │ 178074.0        │ 0      │ 0      │ 0     │ 1       │ 0      │\n",
       "⋮\n",
       "│ 2501 │ 740         │ 33    │ 2      │ 1.26524e5 │ 1             │ 1         │ 0              │ 1.36869e5       │ 0      │ 0      │ 0     │ 1       │ 0      │\n",
       "│ 2502 │ 833         │ 34    │ 3      │ 1.44752e5 │ 1             │ 0         │ 0              │ 1.66473e5       │ 0      │ 1      │ 0     │ 0       │ 1      │\n",
       "│ 2503 │ 683         │ 32    │ 9      │ 0.0       │ 2             │ 1         │ 1              │ 24991.9         │ 0      │ 1      │ 0     │ 0       │ 1      │\n",
       "│ 2504 │ 677         │ 58    │ 1      │ 90022.9   │ 1             │ 0         │ 1              │ 2988.28         │ 0      │ 1      │ 0     │ 0       │ 1      │\n",
       "│ 2505 │ 602         │ 35    │ 7      │ 90602.4   │ 2             │ 1         │ 1              │ 51695.4         │ 0      │ 0      │ 0     │ 1       │ 0      │\n",
       "│ 2506 │ 775         │ 30    │ 4      │ 0.0       │ 2             │ 1         │ 0              │ 49337.8         │ 0      │ 1      │ 0     │ 0       │ 0      │\n",
       "│ 2507 │ 714         │ 33    │ 3      │ 35016.6   │ 1             │ 1         │ 0              │ 53667.1         │ 0      │ 0      │ 0     │ 1       │ 0      │\n",
       "│ 2508 │ 597         │ 53    │ 4      │ 88381.2   │ 1             │ 1         │ 0              │ 69384.7         │ 1      │ 1      │ 0     │ 0       │ 1      │\n",
       "│ 2509 │ 726         │ 36    │ 2      │ 0.0       │ 1             │ 1         │ 0              │ 1.95192e5       │ 0      │ 0      │ 1     │ 0       │ 0      │\n",
       "│ 2510 │ 709         │ 36    │ 7      │ 0.0       │ 1             │ 0         │ 1              │ 42085.6         │ 1      │ 1      │ 0     │ 0       │ 1      │\n",
       "│ 2511 │ 772         │ 42    │ 3      │ 75075.3   │ 2             │ 1         │ 0              │ 92888.5         │ 1      │ 0      │ 0     │ 1       │ 0      │)"
      ]
     },
     "execution_count": 8,
     "metadata": {},
     "output_type": "execute_result"
    }
   ],
   "source": [
    "using Lathe.preprocess: TrainTestSplit\n",
    "train, test = TrainTestSplit(df, .75)"
   ]
  },
  {
   "cell_type": "markdown",
   "metadata": {},
   "source": [
    "#### Model Building"
   ]
  },
  {
   "cell_type": "code",
   "execution_count": 9,
   "metadata": {},
   "outputs": [
    {
     "data": {
      "text/plain": [
       "StatsModels.TableRegressionModel{GeneralizedLinearModel{GLM.GlmResp{Array{Float64,1},Binomial{Float64},ProbitLink},GLM.DensePredChol{Float64,LinearAlgebra.Cholesky{Float64,Array{Float64,2}}}},Array{Float64,2}}\n",
       "\n",
       "Exited ~ 1 + CreditScore + Age + Tenure + Balance + NumOfProducts + HasCrCard + IsActiveMember + EstimatedSalary + Female + France + Spain\n",
       "\n",
       "Coefficients:\n",
       "───────────────────────────────────────────────────────────────────────────────────────\n",
       "                        Coef.   Std. Error       z  Pr(>|z|)     Lower 95%    Upper 95%\n",
       "───────────────────────────────────────────────────────────────────────────────────────\n",
       "(Intercept)      -1.83988      0.166996     -11.02    <1e-27  -2.16719      -1.51258\n",
       "CreditScore      -0.000412622  0.000184325   -2.24    0.0252  -0.000773891  -5.13526e-5\n",
       "Age               0.0418184    0.00167013    25.04    <1e-99   0.038545      0.0450918\n",
       "Tenure           -0.00641933   0.00612882    -1.05    0.2949  -0.0184316     0.00559294\n",
       "Balance           1.48086e-6   3.33772e-7     4.44    <1e-5    8.26681e-7    2.13504e-6\n",
       "NumOfProducts    -0.0409842    0.0311307     -1.32    0.1880  -0.101999      0.0200309\n",
       "HasCrCard        -0.00425584   0.0391658     -0.11    0.9135  -0.0810195     0.0725078\n",
       "IsActiveMember   -0.595851     0.0369847    -16.11    <1e-57  -0.66834      -0.523363\n",
       "EstimatedSalary   1.2041e-7    3.09913e-7     0.39    0.6976  -4.87008e-7    7.27828e-7\n",
       "Female            0.280741     0.0356522      7.87    <1e-14   0.210864      0.350618\n",
       "France           -0.473315     0.0449068    -10.54    <1e-25  -0.56133      -0.385299\n",
       "Spain            -0.427196     0.0516018     -8.28    <1e-15  -0.528333     -0.326058\n",
       "───────────────────────────────────────────────────────────────────────────────────────"
      ]
     },
     "execution_count": 9,
     "metadata": {},
     "output_type": "execute_result"
    }
   ],
   "source": [
    "fm = @formula(Exited ~ CreditScore + Age + Tenure + Balance + NumOfProducts + HasCrCard + IsActiveMember + EstimatedSalary + Female + France + Spain)\n",
    "logit = glm(fm, train, Binomial(), ProbitLink())"
   ]
  },
  {
   "cell_type": "markdown",
   "metadata": {},
   "source": [
    "#### Model Prediction and Evaluation"
   ]
  },
  {
   "cell_type": "code",
   "execution_count": 10,
   "metadata": {},
   "outputs": [
    {
     "data": {
      "text/plain": [
       "2511-element Array{Union{Missing, Float64},1}:\n",
       " 0.12035289828535806\n",
       " 0.15191515321236995\n",
       " 0.3403053484472781\n",
       " 0.25968999002026155\n",
       " 0.05881541782974794\n",
       " 0.09601265082773891\n",
       " 0.6777664281814846\n",
       " 0.14069230900818075\n",
       " 0.05478347992548441\n",
       " 0.16948770711647654\n",
       " 0.5077156626503344\n",
       " 0.09841481375954636\n",
       " 0.3216166395709308\n",
       " ⋮\n",
       " 0.2094417049886561\n",
       " 0.26780973018664717\n",
       " 0.2176407364288609\n",
       " 0.04336271366397042\n",
       " 0.3460823939048726\n",
       " 0.11289882720715783\n",
       " 0.06885277272804108\n",
       " 0.22342699643356062\n",
       " 0.5023537279235765\n",
       " 0.13659262546726927\n",
       " 0.06729457585517604\n",
       " 0.35005319091774234"
      ]
     },
     "execution_count": 10,
     "metadata": {},
     "output_type": "execute_result"
    }
   ],
   "source": [
    "prediction = predict(logit, test)"
   ]
  },
  {
   "cell_type": "code",
   "execution_count": null,
   "metadata": {},
   "outputs": [],
   "source": []
  }
 ],
 "metadata": {
  "kernelspec": {
   "display_name": "Julia 1.5.4",
   "language": "julia",
   "name": "julia-1.5"
  },
  "language_info": {
   "file_extension": ".jl",
   "mimetype": "application/julia",
   "name": "julia",
   "version": "1.5.4"
  }
 },
 "nbformat": 4,
 "nbformat_minor": 4
}
